{
 "cells": [
  {
   "cell_type": "code",
   "execution_count": 2,
   "metadata": {},
   "outputs": [],
   "source": [
    "import pandas as pd"
   ]
  },
  {
   "cell_type": "code",
   "execution_count": 17,
   "metadata": {},
   "outputs": [
    {
     "data": {
      "text/html": [
       "<div>\n",
       "<style scoped>\n",
       "    .dataframe tbody tr th:only-of-type {\n",
       "        vertical-align: middle;\n",
       "    }\n",
       "\n",
       "    .dataframe tbody tr th {\n",
       "        vertical-align: top;\n",
       "    }\n",
       "\n",
       "    .dataframe thead th {\n",
       "        text-align: right;\n",
       "    }\n",
       "</style>\n",
       "<table border=\"1\" class=\"dataframe\">\n",
       "  <thead>\n",
       "    <tr style=\"text-align: right;\">\n",
       "      <th></th>\n",
       "      <th>Purchase ID</th>\n",
       "      <th>SN</th>\n",
       "      <th>Age</th>\n",
       "      <th>Gender</th>\n",
       "      <th>Item ID</th>\n",
       "      <th>Item Name</th>\n",
       "      <th>Price</th>\n",
       "    </tr>\n",
       "  </thead>\n",
       "  <tbody>\n",
       "    <tr>\n",
       "      <th>0</th>\n",
       "      <td>0</td>\n",
       "      <td>Lisim78</td>\n",
       "      <td>20</td>\n",
       "      <td>Male</td>\n",
       "      <td>108</td>\n",
       "      <td>Extraction, Quickblade Of Trembling Hands</td>\n",
       "      <td>3.53</td>\n",
       "    </tr>\n",
       "    <tr>\n",
       "      <th>1</th>\n",
       "      <td>1</td>\n",
       "      <td>Lisovynya38</td>\n",
       "      <td>40</td>\n",
       "      <td>Male</td>\n",
       "      <td>143</td>\n",
       "      <td>Frenzied Scimitar</td>\n",
       "      <td>1.56</td>\n",
       "    </tr>\n",
       "    <tr>\n",
       "      <th>2</th>\n",
       "      <td>2</td>\n",
       "      <td>Ithergue48</td>\n",
       "      <td>24</td>\n",
       "      <td>Male</td>\n",
       "      <td>92</td>\n",
       "      <td>Final Critic</td>\n",
       "      <td>4.88</td>\n",
       "    </tr>\n",
       "    <tr>\n",
       "      <th>3</th>\n",
       "      <td>3</td>\n",
       "      <td>Chamassasya86</td>\n",
       "      <td>24</td>\n",
       "      <td>Male</td>\n",
       "      <td>100</td>\n",
       "      <td>Blindscythe</td>\n",
       "      <td>3.27</td>\n",
       "    </tr>\n",
       "    <tr>\n",
       "      <th>4</th>\n",
       "      <td>4</td>\n",
       "      <td>Iskosia90</td>\n",
       "      <td>23</td>\n",
       "      <td>Male</td>\n",
       "      <td>131</td>\n",
       "      <td>Fury</td>\n",
       "      <td>1.44</td>\n",
       "    </tr>\n",
       "    <tr>\n",
       "      <th>...</th>\n",
       "      <td>...</td>\n",
       "      <td>...</td>\n",
       "      <td>...</td>\n",
       "      <td>...</td>\n",
       "      <td>...</td>\n",
       "      <td>...</td>\n",
       "      <td>...</td>\n",
       "    </tr>\n",
       "    <tr>\n",
       "      <th>775</th>\n",
       "      <td>775</td>\n",
       "      <td>Aethedru70</td>\n",
       "      <td>21</td>\n",
       "      <td>Female</td>\n",
       "      <td>60</td>\n",
       "      <td>Wolf</td>\n",
       "      <td>3.54</td>\n",
       "    </tr>\n",
       "    <tr>\n",
       "      <th>776</th>\n",
       "      <td>776</td>\n",
       "      <td>Iral74</td>\n",
       "      <td>21</td>\n",
       "      <td>Male</td>\n",
       "      <td>164</td>\n",
       "      <td>Exiled Doomblade</td>\n",
       "      <td>1.63</td>\n",
       "    </tr>\n",
       "    <tr>\n",
       "      <th>777</th>\n",
       "      <td>777</td>\n",
       "      <td>Yathecal72</td>\n",
       "      <td>20</td>\n",
       "      <td>Male</td>\n",
       "      <td>67</td>\n",
       "      <td>Celeste, Incarnation of the Corrupted</td>\n",
       "      <td>3.46</td>\n",
       "    </tr>\n",
       "    <tr>\n",
       "      <th>778</th>\n",
       "      <td>778</td>\n",
       "      <td>Sisur91</td>\n",
       "      <td>7</td>\n",
       "      <td>Male</td>\n",
       "      <td>92</td>\n",
       "      <td>Final Critic</td>\n",
       "      <td>4.19</td>\n",
       "    </tr>\n",
       "    <tr>\n",
       "      <th>779</th>\n",
       "      <td>779</td>\n",
       "      <td>Ennrian78</td>\n",
       "      <td>24</td>\n",
       "      <td>Male</td>\n",
       "      <td>50</td>\n",
       "      <td>Dawn</td>\n",
       "      <td>4.60</td>\n",
       "    </tr>\n",
       "  </tbody>\n",
       "</table>\n",
       "<p>780 rows × 7 columns</p>\n",
       "</div>"
      ],
      "text/plain": [
       "     Purchase ID             SN  Age  Gender  Item ID  \\\n",
       "0              0        Lisim78   20    Male      108   \n",
       "1              1    Lisovynya38   40    Male      143   \n",
       "2              2     Ithergue48   24    Male       92   \n",
       "3              3  Chamassasya86   24    Male      100   \n",
       "4              4      Iskosia90   23    Male      131   \n",
       "..           ...            ...  ...     ...      ...   \n",
       "775          775     Aethedru70   21  Female       60   \n",
       "776          776         Iral74   21    Male      164   \n",
       "777          777     Yathecal72   20    Male       67   \n",
       "778          778        Sisur91    7    Male       92   \n",
       "779          779      Ennrian78   24    Male       50   \n",
       "\n",
       "                                     Item Name  Price  \n",
       "0    Extraction, Quickblade Of Trembling Hands   3.53  \n",
       "1                            Frenzied Scimitar   1.56  \n",
       "2                                 Final Critic   4.88  \n",
       "3                                  Blindscythe   3.27  \n",
       "4                                         Fury   1.44  \n",
       "..                                         ...    ...  \n",
       "775                                       Wolf   3.54  \n",
       "776                           Exiled Doomblade   1.63  \n",
       "777      Celeste, Incarnation of the Corrupted   3.46  \n",
       "778                               Final Critic   4.19  \n",
       "779                                       Dawn   4.60  \n",
       "\n",
       "[780 rows x 7 columns]"
      ]
     },
     "execution_count": 17,
     "metadata": {},
     "output_type": "execute_result"
    }
   ],
   "source": [
    "csvpath = 'Resources/purchase_data.csv'\n",
    "purchases_df = pd.read_csv(csvpath)\n",
    "purchases_df"
   ]
  },
  {
   "cell_type": "code",
   "execution_count": 7,
   "metadata": {},
   "outputs": [
    {
     "name": "stdout",
     "output_type": "stream",
     "text": [
      "Total number of House of Pymoli players is 576\n"
     ]
    }
   ],
   "source": [
    "total_players = len(purchases_df['SN'].unique())\n",
    "print(f'Total number of House of Pymoli players is {total_players}')"
   ]
  },
  {
   "cell_type": "code",
   "execution_count": 11,
   "metadata": {},
   "outputs": [
    {
     "name": "stdout",
     "output_type": "stream",
     "text": [
      "179\n"
     ]
    }
   ],
   "source": [
    "# Purchasing Analysis\n",
    "\n",
    "total_items = len(purchases_df['Item ID'].unique())\n",
    "print(total_items)"
   ]
  },
  {
   "cell_type": "code",
   "execution_count": 14,
   "metadata": {},
   "outputs": [
    {
     "name": "stdout",
     "output_type": "stream",
     "text": [
      "13.29\n"
     ]
    }
   ],
   "source": [
    "price_sum = purchases_df['Price'].sum()\n",
    "average_purchase_price = price_sum/total_items\n",
    "print(round(average_purchase_price, 2))"
   ]
  },
  {
   "cell_type": "code",
   "execution_count": 16,
   "metadata": {},
   "outputs": [
    {
     "name": "stdout",
     "output_type": "stream",
     "text": [
      "780\n"
     ]
    }
   ],
   "source": [
    "total_purchases = len(purchases_df)\n",
    "print(total_purchases)"
   ]
  },
  {
   "cell_type": "code",
   "execution_count": 18,
   "metadata": {},
   "outputs": [
    {
     "name": "stdout",
     "output_type": "stream",
     "text": [
      "The total Revenue is 2379.77\n"
     ]
    }
   ],
   "source": [
    "print(f'The total Revenue is {price_sum}')"
   ]
  },
  {
   "cell_type": "code",
   "execution_count": 108,
   "metadata": {},
   "outputs": [
    {
     "name": "stdout",
     "output_type": "stream",
     "text": [
      "                SN  Gender  Age\n",
      "0          Lisim78    Male   20\n",
      "1      Lisovynya38    Male   40\n",
      "2       Ithergue48    Male   24\n",
      "3    Chamassasya86    Male   24\n",
      "4        Iskosia90    Male   23\n",
      "..             ...     ...  ...\n",
      "773         Hala31    Male   21\n",
      "774     Jiskjask80    Male   11\n",
      "775     Aethedru70  Female   21\n",
      "777     Yathecal72    Male   20\n",
      "778        Sisur91    Male    7\n",
      "\n",
      "[576 rows x 3 columns]\n",
      "['Male' 'Other / Non-Disclosed' 'Female']\n"
     ]
    }
   ],
   "source": [
    "## Create new data frame for user info\n",
    "\n",
    "user_info_df = purchases_df[['SN','Gender','Age']]\n",
    "\n",
    "clean_user_df = user_info_df.drop_duplicates(keep='first')\n",
    "print(clean_user_df)\n",
    "\n",
    "genders = user_info_df['Gender'].unique()\n",
    "print(genders)"
   ]
  },
  {
   "cell_type": "code",
   "execution_count": 106,
   "metadata": {},
   "outputs": [
    {
     "name": "stdout",
     "output_type": "stream",
     "text": [
      "The number of female players is 81 or 14.1% of total players.\n",
      "The number of female players is 484 or 84.0% of total players.\n",
      "The number of female players is 11 or 1.9% of total players.\n"
     ]
    }
   ],
   "source": [
    "## Gender Demographics\n",
    "\n",
    "\n",
    "female_players = clean_user_df.loc[clean_user_df['Gender']=='Female']\n",
    "total_female = len(female_players)\n",
    "percent_female = round((total_female/total_players)*100,1)\n",
    "print(f'The number of female players is {total_female} or {percent_female}% of total players.')\n",
    "\n",
    "\n",
    "male_players = clean_user_df.loc[clean_user_df['Gender']=='Male']\n",
    "total_male = len(male_players)\n",
    "percent_male = round((total_male/total_players)*100,1)\n",
    "print(f'The number of female players is {total_male} or {percent_male}% of total players.')\n",
    "\n",
    "other_players = clean_user_df.loc[clean_user_df['Gender']=='Other / Non-Disclosed']\n",
    "total_other = len(other_players)\n",
    "percent_other = round((total_other/total_players)*100,1)\n",
    "print(f'The number of female players is {total_other} or {percent_other}% of total players.')\n",
    "\n"
   ]
  },
  {
   "cell_type": "code",
   "execution_count": 135,
   "metadata": {},
   "outputs": [
    {
     "name": "stdout",
     "output_type": "stream",
     "text": [
      "113\n",
      "652\n",
      "15\n"
     ]
    }
   ],
   "source": [
    "## Female total purchases\n",
    "\n",
    "female_df = purchases_df.loc[purchases_df['Gender']=='Female']\n",
    "female_count = female_df['Item ID'].count()\n",
    "print(female_count)\n",
    "male_df = purchases_df.loc[purchases_df['Gender']=='Male']\n",
    "male_count = male_df['Item ID'].count()\n",
    "print(male_count)\n",
    "other_df = purchases_df.loc[purchases_df['Gender']=='Other / Non-Disclosed']\n",
    "other_count = other_df['Item ID'].count()\n",
    "print(other_count)"
   ]
  },
  {
   "cell_type": "code",
   "execution_count": 114,
   "metadata": {},
   "outputs": [
    {
     "name": "stdout",
     "output_type": "stream",
     "text": [
      "                       Purchase ID    Age  Item ID    Price\n",
      "Gender                                                     \n",
      "Female                       42870   2412     9659   361.94\n",
      "Male                        255921  14942    60698  1967.64\n",
      "Other / Non-Disclosed         5019    363     1212    50.19\n",
      "361.94\n",
      "1967.64\n",
      "50.19\n",
      "2379.77\n"
     ]
    }
   ],
   "source": [
    "## Purchasing Analysis (Gender)\n",
    "\n",
    "\n",
    "gender_group_df = purchases_df.groupby(['Gender']).sum()\n",
    "print(gender_group_df)\n",
    "\n",
    "\n",
    "female_total_price = round(gender_group_df.iloc[0,3],2)\n",
    "print(female_total_price)\n",
    "male_total_price = round(gender_group_df.iloc[1,3],2)\n",
    "print(male_total_price)\n",
    "other_total_price = round(gender_group_df.iloc[2,3],2)\n",
    "print(other_total_price)\n",
    "\n",
    "total_purchases = (female_total_price+male_total_price+other_total_price)\n",
    "print(total_purchases)"
   ]
  },
  {
   "cell_type": "code",
   "execution_count": 140,
   "metadata": {
    "scrolled": false
   },
   "outputs": [
    {
     "name": "stdout",
     "output_type": "stream",
     "text": [
      "3.2\n",
      "3.02\n",
      "3.35\n"
     ]
    }
   ],
   "source": [
    "## Average Purchase Price \n",
    "\n",
    "female_ave_price = round(female_total_price/female_count,2)\n",
    "print(female_ave_price)\n",
    "male_ave_price = round(male_total_price/male_count,2)\n",
    "print(male_ave_price)\n",
    "other_ave_price = round(other_total_price/other_count,2)\n",
    "print(other_ave_price)"
   ]
  },
  {
   "cell_type": "code",
   "execution_count": null,
   "metadata": {},
   "outputs": [],
   "source": []
  }
 ],
 "metadata": {
  "kernelspec": {
   "display_name": "Python 3",
   "language": "python",
   "name": "python3"
  },
  "language_info": {
   "codemirror_mode": {
    "name": "ipython",
    "version": 3
   },
   "file_extension": ".py",
   "mimetype": "text/x-python",
   "name": "python",
   "nbconvert_exporter": "python",
   "pygments_lexer": "ipython3",
   "version": "3.8.5"
  }
 },
 "nbformat": 4,
 "nbformat_minor": 4
}
