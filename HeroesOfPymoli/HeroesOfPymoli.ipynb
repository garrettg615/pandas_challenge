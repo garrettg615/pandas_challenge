{
 "cells": [
  {
   "cell_type": "code",
   "execution_count": 2,
   "metadata": {},
   "outputs": [],
   "source": [
    "import pandas as pd"
   ]
  },
  {
   "cell_type": "code",
   "execution_count": 19,
   "metadata": {},
   "outputs": [
    {
     "data": {
      "text/html": [
       "<div>\n",
       "<style scoped>\n",
       "    .dataframe tbody tr th:only-of-type {\n",
       "        vertical-align: middle;\n",
       "    }\n",
       "\n",
       "    .dataframe tbody tr th {\n",
       "        vertical-align: top;\n",
       "    }\n",
       "\n",
       "    .dataframe thead th {\n",
       "        text-align: right;\n",
       "    }\n",
       "</style>\n",
       "<table border=\"1\" class=\"dataframe\">\n",
       "  <thead>\n",
       "    <tr style=\"text-align: right;\">\n",
       "      <th></th>\n",
       "      <th>Purchase ID</th>\n",
       "      <th>SN</th>\n",
       "      <th>Age</th>\n",
       "      <th>Gender</th>\n",
       "      <th>Item ID</th>\n",
       "      <th>Item Name</th>\n",
       "      <th>Price</th>\n",
       "    </tr>\n",
       "  </thead>\n",
       "  <tbody>\n",
       "    <tr>\n",
       "      <th>0</th>\n",
       "      <td>0</td>\n",
       "      <td>Lisim78</td>\n",
       "      <td>20</td>\n",
       "      <td>Male</td>\n",
       "      <td>108</td>\n",
       "      <td>Extraction, Quickblade Of Trembling Hands</td>\n",
       "      <td>3.53</td>\n",
       "    </tr>\n",
       "    <tr>\n",
       "      <th>1</th>\n",
       "      <td>1</td>\n",
       "      <td>Lisovynya38</td>\n",
       "      <td>40</td>\n",
       "      <td>Male</td>\n",
       "      <td>143</td>\n",
       "      <td>Frenzied Scimitar</td>\n",
       "      <td>1.56</td>\n",
       "    </tr>\n",
       "    <tr>\n",
       "      <th>2</th>\n",
       "      <td>2</td>\n",
       "      <td>Ithergue48</td>\n",
       "      <td>24</td>\n",
       "      <td>Male</td>\n",
       "      <td>92</td>\n",
       "      <td>Final Critic</td>\n",
       "      <td>4.88</td>\n",
       "    </tr>\n",
       "    <tr>\n",
       "      <th>3</th>\n",
       "      <td>3</td>\n",
       "      <td>Chamassasya86</td>\n",
       "      <td>24</td>\n",
       "      <td>Male</td>\n",
       "      <td>100</td>\n",
       "      <td>Blindscythe</td>\n",
       "      <td>3.27</td>\n",
       "    </tr>\n",
       "    <tr>\n",
       "      <th>4</th>\n",
       "      <td>4</td>\n",
       "      <td>Iskosia90</td>\n",
       "      <td>23</td>\n",
       "      <td>Male</td>\n",
       "      <td>131</td>\n",
       "      <td>Fury</td>\n",
       "      <td>1.44</td>\n",
       "    </tr>\n",
       "  </tbody>\n",
       "</table>\n",
       "</div>"
      ],
      "text/plain": [
       "   Purchase ID             SN  Age Gender  Item ID  \\\n",
       "0            0        Lisim78   20   Male      108   \n",
       "1            1    Lisovynya38   40   Male      143   \n",
       "2            2     Ithergue48   24   Male       92   \n",
       "3            3  Chamassasya86   24   Male      100   \n",
       "4            4      Iskosia90   23   Male      131   \n",
       "\n",
       "                                   Item Name  Price  \n",
       "0  Extraction, Quickblade Of Trembling Hands   3.53  \n",
       "1                          Frenzied Scimitar   1.56  \n",
       "2                               Final Critic   4.88  \n",
       "3                                Blindscythe   3.27  \n",
       "4                                       Fury   1.44  "
      ]
     },
     "execution_count": 19,
     "metadata": {},
     "output_type": "execute_result"
    }
   ],
   "source": [
    "csvpath = 'Resources/purchase_data.csv'\n",
    "purchases_df = pd.read_csv(csvpath)\n",
    "purchases_df.head()"
   ]
  },
  {
   "cell_type": "code",
   "execution_count": 4,
   "metadata": {},
   "outputs": [
    {
     "name": "stdout",
     "output_type": "stream",
     "text": [
      "Total number of House of Pymoli players is 576\n"
     ]
    }
   ],
   "source": [
    "# Total Players\n",
    "total_players = len(purchases_df['SN'].unique())\n",
    "print(f'Total number of House of Pymoli players is {total_players}')"
   ]
  },
  {
   "cell_type": "code",
   "execution_count": 5,
   "metadata": {},
   "outputs": [
    {
     "name": "stdout",
     "output_type": "stream",
     "text": [
      "179\n"
     ]
    }
   ],
   "source": [
    "# Purchasing Analysis\n",
    "## Total Items\n",
    "\n",
    "total_items = len(purchases_df['Item ID'].unique())\n",
    "print(total_items)"
   ]
  },
  {
   "cell_type": "code",
   "execution_count": 6,
   "metadata": {},
   "outputs": [
    {
     "name": "stdout",
     "output_type": "stream",
     "text": [
      "13.29\n"
     ]
    }
   ],
   "source": [
    "# Average Purchase Price\n",
    "\n",
    "price_sum = purchases_df['Price'].sum()\n",
    "average_purchase_price = price_sum/total_items\n",
    "print(round(average_purchase_price, 2))"
   ]
  },
  {
   "cell_type": "code",
   "execution_count": 7,
   "metadata": {},
   "outputs": [
    {
     "name": "stdout",
     "output_type": "stream",
     "text": [
      "780\n"
     ]
    }
   ],
   "source": [
    "# Total Purchases\n",
    "\n",
    "total_purchases = len(purchases_df)\n",
    "print(total_purchases)"
   ]
  },
  {
   "cell_type": "code",
   "execution_count": 8,
   "metadata": {},
   "outputs": [
    {
     "name": "stdout",
     "output_type": "stream",
     "text": [
      "The total Revenue is 2379.77\n"
     ]
    }
   ],
   "source": [
    "print(f'The total Revenue is {price_sum}')"
   ]
  },
  {
   "cell_type": "code",
   "execution_count": 9,
   "metadata": {},
   "outputs": [
    {
     "name": "stdout",
     "output_type": "stream",
     "text": [
      "                SN  Gender  Age\n",
      "0          Lisim78    Male   20\n",
      "1      Lisovynya38    Male   40\n",
      "2       Ithergue48    Male   24\n",
      "3    Chamassasya86    Male   24\n",
      "4        Iskosia90    Male   23\n",
      "..             ...     ...  ...\n",
      "773         Hala31    Male   21\n",
      "774     Jiskjask80    Male   11\n",
      "775     Aethedru70  Female   21\n",
      "777     Yathecal72    Male   20\n",
      "778        Sisur91    Male    7\n",
      "\n",
      "[576 rows x 3 columns]\n",
      "['Male' 'Other / Non-Disclosed' 'Female']\n"
     ]
    }
   ],
   "source": [
    "## Create new data frame for user info\n",
    "\n",
    "user_info_df = purchases_df[['SN','Gender','Age']]\n",
    "\n",
    "clean_user_df = user_info_df.drop_duplicates(keep='first')\n",
    "print(clean_user_df)\n",
    "\n",
    "genders = user_info_df['Gender'].unique()\n",
    "print(genders)"
   ]
  },
  {
   "cell_type": "code",
   "execution_count": 10,
   "metadata": {},
   "outputs": [
    {
     "name": "stdout",
     "output_type": "stream",
     "text": [
      "The number of female players is 81 or 14.1% of total players.\n",
      "The number of female players is 484 or 84.0% of total players.\n",
      "The number of female players is 11 or 1.9% of total players.\n"
     ]
    }
   ],
   "source": [
    "## Gender Demographics\n",
    "\n",
    "\n",
    "female_players = clean_user_df.loc[clean_user_df['Gender']=='Female']\n",
    "total_female = len(female_players)\n",
    "percent_female = round((total_female/total_players)*100,1)\n",
    "print(f'The number of female players is {total_female} or {percent_female}% of total players.')\n",
    "\n",
    "\n",
    "male_players = clean_user_df.loc[clean_user_df['Gender']=='Male']\n",
    "total_male = len(male_players)\n",
    "percent_male = round((total_male/total_players)*100,1)\n",
    "print(f'The number of female players is {total_male} or {percent_male}% of total players.')\n",
    "\n",
    "other_players = clean_user_df.loc[clean_user_df['Gender']=='Other / Non-Disclosed']\n",
    "total_other = len(other_players)\n",
    "percent_other = round((total_other/total_players)*100,1)\n",
    "print(f'The number of female players is {total_other} or {percent_other}% of total players.')\n",
    "\n"
   ]
  },
  {
   "cell_type": "code",
   "execution_count": 11,
   "metadata": {},
   "outputs": [
    {
     "name": "stdout",
     "output_type": "stream",
     "text": [
      "113\n",
      "652\n",
      "15\n"
     ]
    }
   ],
   "source": [
    "## Female total purchases\n",
    "\n",
    "female_df = purchases_df.loc[purchases_df['Gender']=='Female']\n",
    "female_count = female_df['Item ID'].count()\n",
    "print(female_count)\n",
    "male_df = purchases_df.loc[purchases_df['Gender']=='Male']\n",
    "male_count = male_df['Item ID'].count()\n",
    "print(male_count)\n",
    "other_df = purchases_df.loc[purchases_df['Gender']=='Other / Non-Disclosed']\n",
    "other_count = other_df['Item ID'].count()\n",
    "print(other_count)"
   ]
  },
  {
   "cell_type": "code",
   "execution_count": 12,
   "metadata": {},
   "outputs": [
    {
     "name": "stdout",
     "output_type": "stream",
     "text": [
      "                       Purchase ID    Age  Item ID    Price\n",
      "Gender                                                     \n",
      "Female                       42870   2412     9659   361.94\n",
      "Male                        255921  14942    60698  1967.64\n",
      "Other / Non-Disclosed         5019    363     1212    50.19\n",
      "361.94\n",
      "1967.64\n",
      "50.19\n",
      "2379.77\n"
     ]
    }
   ],
   "source": [
    "## Purchasing Analysis (Gender)\n",
    "\n",
    "\n",
    "gender_group_df = purchases_df.groupby(['Gender']).sum()\n",
    "print(gender_group_df)\n",
    "\n",
    "\n",
    "female_total_price = round(gender_group_df.iloc[0,3],2)\n",
    "print(female_total_price)\n",
    "male_total_price = round(gender_group_df.iloc[1,3],2)\n",
    "print(male_total_price)\n",
    "other_total_price = round(gender_group_df.iloc[2,3],2)\n",
    "print(other_total_price)\n",
    "\n",
    "total_purchases = (female_total_price+male_total_price+other_total_price)\n",
    "print(total_purchases)"
   ]
  },
  {
   "cell_type": "code",
   "execution_count": 13,
   "metadata": {
    "scrolled": false
   },
   "outputs": [
    {
     "name": "stdout",
     "output_type": "stream",
     "text": [
      "3.2\n",
      "3.02\n",
      "3.35\n"
     ]
    }
   ],
   "source": [
    "## Average Purchase Price \n",
    "\n",
    "female_ave_price = round(female_total_price/female_count,2)\n",
    "print(female_ave_price)\n",
    "male_ave_price = round(male_total_price/male_count,2)\n",
    "print(male_ave_price)\n",
    "other_ave_price = round(other_total_price/other_count,2)\n",
    "print(other_ave_price)"
   ]
  },
  {
   "cell_type": "code",
   "execution_count": 15,
   "metadata": {},
   "outputs": [
    {
     "data": {
      "text/html": [
       "<div>\n",
       "<style scoped>\n",
       "    .dataframe tbody tr th:only-of-type {\n",
       "        vertical-align: middle;\n",
       "    }\n",
       "\n",
       "    .dataframe tbody tr th {\n",
       "        vertical-align: top;\n",
       "    }\n",
       "\n",
       "    .dataframe thead th {\n",
       "        text-align: right;\n",
       "    }\n",
       "</style>\n",
       "<table border=\"1\" class=\"dataframe\">\n",
       "  <thead>\n",
       "    <tr style=\"text-align: right;\">\n",
       "      <th></th>\n",
       "      <th>SN</th>\n",
       "      <th>Age</th>\n",
       "      <th>Purchase ID</th>\n",
       "      <th>Item Name</th>\n",
       "      <th>Price</th>\n",
       "    </tr>\n",
       "  </thead>\n",
       "  <tbody>\n",
       "    <tr>\n",
       "      <th>0</th>\n",
       "      <td>Lisim78</td>\n",
       "      <td>20</td>\n",
       "      <td>0</td>\n",
       "      <td>Extraction, Quickblade Of Trembling Hands</td>\n",
       "      <td>3.53</td>\n",
       "    </tr>\n",
       "    <tr>\n",
       "      <th>1</th>\n",
       "      <td>Lisovynya38</td>\n",
       "      <td>40</td>\n",
       "      <td>1</td>\n",
       "      <td>Frenzied Scimitar</td>\n",
       "      <td>1.56</td>\n",
       "    </tr>\n",
       "    <tr>\n",
       "      <th>2</th>\n",
       "      <td>Ithergue48</td>\n",
       "      <td>24</td>\n",
       "      <td>2</td>\n",
       "      <td>Final Critic</td>\n",
       "      <td>4.88</td>\n",
       "    </tr>\n",
       "    <tr>\n",
       "      <th>3</th>\n",
       "      <td>Chamassasya86</td>\n",
       "      <td>24</td>\n",
       "      <td>3</td>\n",
       "      <td>Blindscythe</td>\n",
       "      <td>3.27</td>\n",
       "    </tr>\n",
       "    <tr>\n",
       "      <th>4</th>\n",
       "      <td>Iskosia90</td>\n",
       "      <td>23</td>\n",
       "      <td>4</td>\n",
       "      <td>Fury</td>\n",
       "      <td>1.44</td>\n",
       "    </tr>\n",
       "  </tbody>\n",
       "</table>\n",
       "</div>"
      ],
      "text/plain": [
       "              SN  Age  Purchase ID                                  Item Name  \\\n",
       "0        Lisim78   20            0  Extraction, Quickblade Of Trembling Hands   \n",
       "1    Lisovynya38   40            1                          Frenzied Scimitar   \n",
       "2     Ithergue48   24            2                               Final Critic   \n",
       "3  Chamassasya86   24            3                                Blindscythe   \n",
       "4      Iskosia90   23            4                                       Fury   \n",
       "\n",
       "   Price  \n",
       "0   3.53  \n",
       "1   1.56  \n",
       "2   4.88  \n",
       "3   3.27  \n",
       "4   1.44  "
      ]
     },
     "execution_count": 15,
     "metadata": {},
     "output_type": "execute_result"
    }
   ],
   "source": [
    "## Create new Data Frame for Age Analysis\n",
    "\n",
    "unique_age_df = purchases_df[['SN','Age','Purchase ID','Item Name','Price']]\n",
    "unique_age_df.head()"
   ]
  },
  {
   "cell_type": "code",
   "execution_count": 16,
   "metadata": {},
   "outputs": [
    {
     "name": "stdout",
     "output_type": "stream",
     "text": [
      "215\n",
      "291\n",
      "63\n",
      "7\n",
      "Age Group\n",
      "20 and Under    3.10\n",
      "21 to 30        2.99\n",
      "31 to 40        3.15\n",
      "41 and Older    3.08\n",
      "Name: Price, dtype: float64\n",
      "3.1\n",
      "               Age  Purchase ID    Price\n",
      "Age Group                               \n",
      "20 and Under  4764       112905   887.12\n",
      "21 to 30      9667       155384  1203.06\n",
      "31 to 40      2986        31735   268.06\n",
      "41 and Older   300         3786    21.53\n",
      "887.12\n"
     ]
    },
    {
     "name": "stderr",
     "output_type": "stream",
     "text": [
      "<ipython-input-16-603601f105ef>:23: SettingWithCopyWarning: \n",
      "A value is trying to be set on a copy of a slice from a DataFrame.\n",
      "Try using .loc[row_indexer,col_indexer] = value instead\n",
      "\n",
      "See the caveats in the documentation: https://pandas.pydata.org/pandas-docs/stable/user_guide/indexing.html#returning-a-view-versus-a-copy\n",
      "  unique_age_df['Age Group'] = pd.cut(unique_age_df['Age'], bins, labels = age_groups, include_lowest=True)\n"
     ]
    }
   ],
   "source": [
    "## Age Demographics\n",
    "age_demo_df = clean_user_df.copy()\n",
    "\n",
    "bins = [0, 20, 30, 40, 100]\n",
    "age_groups = ['20 and Under', '21 to 30', '31 to 40','41 and Older']\n",
    "\n",
    "age_demo_df['Age Group'] = pd.cut(age_demo_df['Age'], bins, labels = age_groups, include_lowest=True)\n",
    "no_dup_age_df = age_demo_df.groupby(['Age Group']).count()\n",
    "\n",
    "\n",
    "uni_teens = no_dup_age_df.iloc[0,0]\n",
    "uni_yg_adults = no_dup_age_df.iloc[1,0]\n",
    "uni_adults = no_dup_age_df.iloc[2,0]\n",
    "uni_mid_adults = no_dup_age_df.iloc[3,0]\n",
    "\n",
    "print(uni_teens)\n",
    "print(uni_yg_adults)\n",
    "print(uni_adults)\n",
    "print(uni_mid_adults)\n",
    "\n",
    "\n",
    "\n",
    "unique_age_df['Age Group'] = pd.cut(unique_age_df['Age'], bins, labels = age_groups, include_lowest=True)\n",
    "age_group_df = unique_age_df.groupby(['Age Group']).count()\n",
    "age_ave_price = unique_age_df.groupby(['Age Group']).mean()\n",
    "age_total_price = unique_age_df.groupby(['Age Group']).sum()\n",
    "\n",
    "\n",
    "ave_price_table = round(age_ave_price['Price'],2)\n",
    "total_price_table = round(age_total_price['Price'],2)\n",
    "\n",
    "\n",
    "ave_teens = round(age_ave_price.iloc[0,2],2)\n",
    "ave_young_adults = round(age_ave_price.iloc[1,2],2)\n",
    "ave_adults = round(age_ave_price.iloc[2,2],2)\n",
    "ave_mid_age_adults = round(age_ave_price.iloc[3,2],2)\n",
    "\n",
    "print(ave_price_table)\n",
    "print(ave_teens)  # Format 2 decimal places later\n",
    "\n",
    "## Total Purchases\n",
    "total_teens = round(age_total_price.iloc[0,2],2)\n",
    "total_young_adults = round(age_total_price.iloc[1,2],2)\n",
    "total_adults = round(age_total_price.iloc[2,2],2)\n",
    "total_mid_age_adults = round(age_total_price.iloc[3,2],2)\n",
    "\n",
    "print(age_total_price)\n",
    "print(total_teens)\n",
    "\n"
   ]
  },
  {
   "cell_type": "code",
   "execution_count": 17,
   "metadata": {},
   "outputs": [
    {
     "name": "stdout",
     "output_type": "stream",
     "text": [
      "4.13\n",
      "4.13\n",
      "4.25\n",
      "3.08\n"
     ]
    }
   ],
   "source": [
    "## Average Purchase Total per Person by Age Group\n",
    "\n",
    "ave_tot_per_teen = round(total_teens/uni_teens, 2)\n",
    "print(ave_tot_per_teen)\n",
    "ave_tot_per_yg_adult = round(total_young_adults/uni_yg_adults, 2)\n",
    "print(ave_tot_per_yg_adult)\n",
    "ave_tot_per_adult = round(total_adults/uni_adults, 2)\n",
    "print(ave_tot_per_adult)\n",
    "ave_tot_per_mid_adult = round(total_mid_age_adults/uni_mid_adults, 2)\n",
    "print(ave_tot_per_mid_adult)"
   ]
  },
  {
   "cell_type": "code",
   "execution_count": 18,
   "metadata": {},
   "outputs": [
    {
     "data": {
      "text/html": [
       "<div>\n",
       "<style scoped>\n",
       "    .dataframe tbody tr th:only-of-type {\n",
       "        vertical-align: middle;\n",
       "    }\n",
       "\n",
       "    .dataframe tbody tr th {\n",
       "        vertical-align: top;\n",
       "    }\n",
       "\n",
       "    .dataframe thead th {\n",
       "        text-align: right;\n",
       "    }\n",
       "</style>\n",
       "<table border=\"1\" class=\"dataframe\">\n",
       "  <thead>\n",
       "    <tr style=\"text-align: right;\">\n",
       "      <th></th>\n",
       "      <th>SN</th>\n",
       "      <th>Purchases</th>\n",
       "      <th>Total Price</th>\n",
       "      <th>Average Price</th>\n",
       "    </tr>\n",
       "  </thead>\n",
       "  <tbody>\n",
       "    <tr>\n",
       "      <th>0</th>\n",
       "      <td>Lisosia93</td>\n",
       "      <td>5</td>\n",
       "      <td>18.96</td>\n",
       "      <td>3.79</td>\n",
       "    </tr>\n",
       "    <tr>\n",
       "      <th>1</th>\n",
       "      <td>Idastidru52</td>\n",
       "      <td>4</td>\n",
       "      <td>15.45</td>\n",
       "      <td>3.86</td>\n",
       "    </tr>\n",
       "    <tr>\n",
       "      <th>2</th>\n",
       "      <td>Chamjask73</td>\n",
       "      <td>3</td>\n",
       "      <td>13.83</td>\n",
       "      <td>4.61</td>\n",
       "    </tr>\n",
       "    <tr>\n",
       "      <th>3</th>\n",
       "      <td>Iral74</td>\n",
       "      <td>4</td>\n",
       "      <td>13.62</td>\n",
       "      <td>3.40</td>\n",
       "    </tr>\n",
       "    <tr>\n",
       "      <th>4</th>\n",
       "      <td>Iskadarya95</td>\n",
       "      <td>3</td>\n",
       "      <td>13.10</td>\n",
       "      <td>4.37</td>\n",
       "    </tr>\n",
       "  </tbody>\n",
       "</table>\n",
       "</div>"
      ],
      "text/plain": [
       "            SN  Purchases  Total Price  Average Price\n",
       "0    Lisosia93          5        18.96           3.79\n",
       "1  Idastidru52          4        15.45           3.86\n",
       "2   Chamjask73          3        13.83           4.61\n",
       "3       Iral74          4        13.62           3.40\n",
       "4  Iskadarya95          3        13.10           4.37"
      ]
     },
     "execution_count": 18,
     "metadata": {},
     "output_type": "execute_result"
    }
   ],
   "source": [
    "## Identify the the top 5 spenders in the game by total purchase value, then list (in a table):\n",
    "\n",
    "new_group = unique_age_df.groupby(['SN']).agg({'Purchase ID':['count'],\n",
    "                                                    'Price':['sum']})\n",
    "new_group.columns = new_group.columns.map('_'.join)\n",
    "\n",
    "sorted_group = new_group.sort_values(['Price_sum'],ascending=False).head()\n",
    "\n",
    "mylist = []\n",
    "for i in range(0,5):\n",
    "    price_sum = sorted_group['Price_sum'][i]\n",
    "    purchase_count = sorted_group['Purchase ID_count'][i]\n",
    "    average_price2 = round(price_sum/purchase_count,2)\n",
    "    mylist.append(average_price2)\n",
    "\n",
    "\n",
    "sorted_group['Average purchase Price'] = mylist\n",
    "sorted_group.reset_index(drop=False)\n",
    "sorted_group = sorted_group.rename(columns={'Purchase ID_count':'Purchases',\n",
    "                                           'Price_sum':'Total Price',\n",
    "                                            'Average purchase Price':'Average Price'})\n",
    "sorted_group.reset_index(drop=False)"
   ]
  },
  {
   "cell_type": "code",
   "execution_count": 67,
   "metadata": {},
   "outputs": [
    {
     "name": "stdout",
     "output_type": "stream",
     "text": [
      "Item Name                                   \n",
      "Final Critic                                    13\n",
      "Oathbreaker, Last Hope of the Breaking Storm    12\n",
      "Nirvana                                          9\n",
      "Persuasion                                       9\n",
      "Fiery Glass Crusader                             9\n",
      "dtype: int64\n"
     ]
    },
    {
     "data": {
      "text/html": [
       "<div>\n",
       "<style scoped>\n",
       "    .dataframe tbody tr th:only-of-type {\n",
       "        vertical-align: middle;\n",
       "    }\n",
       "\n",
       "    .dataframe tbody tr th {\n",
       "        vertical-align: top;\n",
       "    }\n",
       "\n",
       "    .dataframe thead th {\n",
       "        text-align: right;\n",
       "    }\n",
       "</style>\n",
       "<table border=\"1\" class=\"dataframe\">\n",
       "  <thead>\n",
       "    <tr style=\"text-align: right;\">\n",
       "      <th></th>\n",
       "      <th>Item Name</th>\n",
       "      <th>Item ID</th>\n",
       "      <th>Price</th>\n",
       "    </tr>\n",
       "  </thead>\n",
       "  <tbody>\n",
       "    <tr>\n",
       "      <th>0</th>\n",
       "      <td>Extraction, Quickblade Of Trembling Hands</td>\n",
       "      <td>108</td>\n",
       "      <td>3.53</td>\n",
       "    </tr>\n",
       "    <tr>\n",
       "      <th>1</th>\n",
       "      <td>Frenzied Scimitar</td>\n",
       "      <td>143</td>\n",
       "      <td>1.56</td>\n",
       "    </tr>\n",
       "    <tr>\n",
       "      <th>2</th>\n",
       "      <td>Final Critic</td>\n",
       "      <td>92</td>\n",
       "      <td>4.88</td>\n",
       "    </tr>\n",
       "    <tr>\n",
       "      <th>3</th>\n",
       "      <td>Blindscythe</td>\n",
       "      <td>100</td>\n",
       "      <td>3.27</td>\n",
       "    </tr>\n",
       "    <tr>\n",
       "      <th>4</th>\n",
       "      <td>Fury</td>\n",
       "      <td>131</td>\n",
       "      <td>1.44</td>\n",
       "    </tr>\n",
       "    <tr>\n",
       "      <th>...</th>\n",
       "      <td>...</td>\n",
       "      <td>...</td>\n",
       "      <td>...</td>\n",
       "    </tr>\n",
       "    <tr>\n",
       "      <th>775</th>\n",
       "      <td>Wolf</td>\n",
       "      <td>60</td>\n",
       "      <td>3.54</td>\n",
       "    </tr>\n",
       "    <tr>\n",
       "      <th>776</th>\n",
       "      <td>Exiled Doomblade</td>\n",
       "      <td>164</td>\n",
       "      <td>1.63</td>\n",
       "    </tr>\n",
       "    <tr>\n",
       "      <th>777</th>\n",
       "      <td>Celeste, Incarnation of the Corrupted</td>\n",
       "      <td>67</td>\n",
       "      <td>3.46</td>\n",
       "    </tr>\n",
       "    <tr>\n",
       "      <th>778</th>\n",
       "      <td>Final Critic</td>\n",
       "      <td>92</td>\n",
       "      <td>4.19</td>\n",
       "    </tr>\n",
       "    <tr>\n",
       "      <th>779</th>\n",
       "      <td>Dawn</td>\n",
       "      <td>50</td>\n",
       "      <td>4.60</td>\n",
       "    </tr>\n",
       "  </tbody>\n",
       "</table>\n",
       "<p>780 rows × 3 columns</p>\n",
       "</div>"
      ],
      "text/plain": [
       "                                     Item Name  Item ID  Price\n",
       "0    Extraction, Quickblade Of Trembling Hands      108   3.53\n",
       "1                            Frenzied Scimitar      143   1.56\n",
       "2                                 Final Critic       92   4.88\n",
       "3                                  Blindscythe      100   3.27\n",
       "4                                         Fury      131   1.44\n",
       "..                                         ...      ...    ...\n",
       "775                                       Wolf       60   3.54\n",
       "776                           Exiled Doomblade      164   1.63\n",
       "777      Celeste, Incarnation of the Corrupted       67   3.46\n",
       "778                               Final Critic       92   4.19\n",
       "779                                       Dawn       50   4.60\n",
       "\n",
       "[780 rows x 3 columns]"
      ]
     },
     "execution_count": 67,
     "metadata": {},
     "output_type": "execute_result"
    }
   ],
   "source": [
    "## Identify the 5 most popular items by purchase count, then list (in a table):\n",
    "\n",
    "top_5_items = purchases_df[['Item Name']].value_counts().head()\n",
    "print(top_5_items[0:5])\n",
    "\n",
    "items_df = purchases_df[['Item Name','Item ID','Price']]\n",
    "\n",
    "items_df\n",
    "\n",
    "\n",
    "\n",
    "#group_items_df = items_df.groupby(['Item Name']).head()\n",
    "\n",
    "\n",
    "\n",
    "\n",
    "#group_items_df = items_df.groupby(['Item Name']).agg({'Item ID':'count','Price':'sum'})\n",
    "\n",
    "#sorted_items_df = group_items_df.sort_values(['Item ID'],ascending=False).head()\n",
    "#sorted_items_df = sorted_items_df.rename(columns={'Item ID':'Amt Purchased',\n",
    "                                                 #'Price':'Total'})\n",
    "#sorted_items_df['Item ID'] = purchases_df['Item ID']\n"
   ]
  },
  {
   "cell_type": "code",
   "execution_count": null,
   "metadata": {},
   "outputs": [],
   "source": []
  }
 ],
 "metadata": {
  "kernelspec": {
   "display_name": "Python 3",
   "language": "python",
   "name": "python3"
  },
  "language_info": {
   "codemirror_mode": {
    "name": "ipython",
    "version": 3
   },
   "file_extension": ".py",
   "mimetype": "text/x-python",
   "name": "python",
   "nbconvert_exporter": "python",
   "pygments_lexer": "ipython3",
   "version": "3.8.5"
  }
 },
 "nbformat": 4,
 "nbformat_minor": 4
}
